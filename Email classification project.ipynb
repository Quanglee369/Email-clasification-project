{
 "cells": [
  {
   "cell_type": "markdown",
   "id": "e356271f",
   "metadata": {},
   "source": [
    "# Data description"
   ]
  },
  {
   "cell_type": "markdown",
   "id": "a82e840b",
   "metadata": {},
   "source": [
    "About Dataset\n",
    "Introduction\n",
    "This is a csv file containing 83446 records of email which are labelled as either spam or not-spam. It is formed by combining the 2007 TREC Public Spam Corpus and Enron-Spam Dataset.\n",
    "\n",
    "**Columns**\n",
    "- **label**\n",
    "    - '1' indicates that the email is classified as spam.\n",
    "    - '0' denotes that the email is legitimate (ham).\n",
    "- **text**\n",
    "    - This column contains the actual content of the email messages.\n",
    "\n",
    "Sources\n",
    "1. 2007 TREC Public Spam Corpus\n",
    "- Original link: https://plg.uwaterloo.ca/~gvcormac/treccorpus07/\n",
    "- Preprocessed download link: https://www.kaggle.com/datasets/bayes2003/emails-for-spam-or-ham-classification-trec-2007\n",
    "2. Enron-Spam Dataset\n",
    "- Original link: https://www2.aueb.gr/users/ion/data/enron-spam/\n",
    "- Preprocessed download link: https://github.com/MWiechmann/enron_spam_data/\n"
   ]
  },
  {
   "cell_type": "markdown",
   "id": "ec94d2cd",
   "metadata": {},
   "source": [
    "# Project objective"
   ]
  },
  {
   "cell_type": "markdown",
   "id": "3e675f4d",
   "metadata": {},
   "source": [
    "In this project my objective is to build the best model that is optimal for email classification for this dataset.\n",
    "\n",
    "Step I will go through include:\n",
    " - Preprocessing data: \n",
    "     - Remove stop words, punctuation\n",
    "     - Tokenizer the text data\n",
    "     - Turn the tokenized data into padding sequence\n",
    " - Choose the best model and tunning parameters:\n",
    "     - Go through well know model for email classification such as (Random Forest, GRU, RNN)\n",
    "     - Tunning parameters to come up with the most optimal result for that model"
   ]
  },
  {
   "cell_type": "code",
   "execution_count": 569,
   "id": "95d3cff1",
   "metadata": {},
   "outputs": [],
   "source": [
    "import pandas as pd\n",
    "import numpy as np\n",
    "import string\n",
    "from nltk.corpus import stopwords\n",
    "from tensorflow.keras.preprocessing.text import text_to_word_sequence, one_hot, Tokenizer\n",
    "from tensorflow.keras.preprocessing.sequence import pad_sequences\n",
    "from sklearn.svm import SVC\n",
    "from sklearn.ensemble import RandomForestClassifier\n",
    "from sklearn.model_selection import train_test_split, cross_val_score\n",
    "from sklearn.metrics import classification_report\n",
    "from tensorflow.keras.layers import Embedding, Dropout, Dense, Bidirectional, SimpleRNN, BatchNormalization, LSTM, GRU\n",
    "from tensorflow.keras.models import Sequential, Model, model_from_json\n",
    "import tensorflow as tf\n",
    "import matplotlib.pyplot as plt"
   ]
  },
  {
   "cell_type": "markdown",
   "id": "05a11f11",
   "metadata": {},
   "source": [
    "# Preprocessing steps"
   ]
  },
  {
   "cell_type": "code",
   "execution_count": 714,
   "id": "0e171e35",
   "metadata": {},
   "outputs": [],
   "source": [
    "# Define function for text cleaning\n",
    "def clean_text(text):\n",
    "    text = ''.join([char for char in text if char not in punctuation])\n",
    "    \n",
    "    text = ' '.join([word.lower() for word in text.split() if word.lower() not in stop_words and word not in ['escapenumber', 'escapelong', 'escapenumbermg', 'escapenumberd', 'aescapenumber']])\n",
    "    \n",
    "    return text\n",
    "\n",
    "# Get stop_words and punctuation\n",
    "stop_words = set(stopwords.words('english'))\n",
    "punctuation = string.punctuation"
   ]
  },
  {
   "cell_type": "code",
   "execution_count": 715,
   "id": "518385ef",
   "metadata": {},
   "outputs": [
    {
     "data": {
      "text/html": [
       "<div>\n",
       "<style scoped>\n",
       "    .dataframe tbody tr th:only-of-type {\n",
       "        vertical-align: middle;\n",
       "    }\n",
       "\n",
       "    .dataframe tbody tr th {\n",
       "        vertical-align: top;\n",
       "    }\n",
       "\n",
       "    .dataframe thead th {\n",
       "        text-align: right;\n",
       "    }\n",
       "</style>\n",
       "<table border=\"1\" class=\"dataframe\">\n",
       "  <thead>\n",
       "    <tr style=\"text-align: right;\">\n",
       "      <th></th>\n",
       "      <th>label</th>\n",
       "      <th>text</th>\n",
       "    </tr>\n",
       "  </thead>\n",
       "  <tbody>\n",
       "    <tr>\n",
       "      <th>0</th>\n",
       "      <td>1</td>\n",
       "      <td>ounce feather bowl hummingbird opec moment ala...</td>\n",
       "    </tr>\n",
       "    <tr>\n",
       "      <th>1</th>\n",
       "      <td>1</td>\n",
       "      <td>wulvob get your medircations online qnb ikud v...</td>\n",
       "    </tr>\n",
       "    <tr>\n",
       "      <th>2</th>\n",
       "      <td>0</td>\n",
       "      <td>computer connection from cnn com wednesday es...</td>\n",
       "    </tr>\n",
       "    <tr>\n",
       "      <th>3</th>\n",
       "      <td>1</td>\n",
       "      <td>university degree obtain a prosperous future m...</td>\n",
       "    </tr>\n",
       "    <tr>\n",
       "      <th>4</th>\n",
       "      <td>0</td>\n",
       "      <td>thanks for all your answers guys i know i shou...</td>\n",
       "    </tr>\n",
       "  </tbody>\n",
       "</table>\n",
       "</div>"
      ],
      "text/plain": [
       "   label                                               text\n",
       "0      1  ounce feather bowl hummingbird opec moment ala...\n",
       "1      1  wulvob get your medircations online qnb ikud v...\n",
       "2      0   computer connection from cnn com wednesday es...\n",
       "3      1  university degree obtain a prosperous future m...\n",
       "4      0  thanks for all your answers guys i know i shou..."
      ]
     },
     "execution_count": 715,
     "metadata": {},
     "output_type": "execute_result"
    }
   ],
   "source": [
    "# Load the data\n",
    "df = pd.read_csv(r'D:\\Documents\\combined_data.csv')\n",
    "df.head()"
   ]
  },
  {
   "cell_type": "code",
   "execution_count": 716,
   "id": "ca4266c7",
   "metadata": {},
   "outputs": [],
   "source": [
    "# Make a dictionary of words with their respective index\n",
    "index_word = {index:word for word, index in tokenizer.word_index.items()}"
   ]
  },
  {
   "cell_type": "code",
   "execution_count": 717,
   "id": "66778aa5",
   "metadata": {},
   "outputs": [],
   "source": [
    "# Tokenize the data\n",
    "tokenizer = Tokenizer(num_words=20000)\n",
    "df['text'] = df['text'].apply(clean_text)\n",
    "tokenizer.fit_on_texts(df['text'])\n",
    "sequence = tokenizer.texts_to_sequences(df['text'])"
   ]
  },
  {
   "cell_type": "code",
   "execution_count": 718,
   "id": "111b9777",
   "metadata": {},
   "outputs": [],
   "source": [
    "# Padding the data\n",
    "max_lenght = 500\n",
    "padded = pad_sequences(sequence, maxlen=max_lenght, padding='post')\n",
    "y = df['label']"
   ]
  },
  {
   "cell_type": "code",
   "execution_count": 719,
   "id": "56202f7b",
   "metadata": {},
   "outputs": [
    {
     "data": {
      "text/plain": [
       "1    43910\n",
       "0    39538\n",
       "Name: label, dtype: int64"
      ]
     },
     "execution_count": 719,
     "metadata": {},
     "output_type": "execute_result"
    }
   ],
   "source": [
    "# Let check the distribution of our class variable\n",
    "y.value_counts()"
   ]
  },
  {
   "cell_type": "code",
   "execution_count": 720,
   "id": "4348c380",
   "metadata": {},
   "outputs": [],
   "source": [
    "# Seperate word for spam and non-spam email\n",
    "sequences_class_0 = [sequence[i] for i in range(len(sequence)) if df['label'][i] == 0]\n",
    "sequences_class_1 = [sequence[i] for i in range(len(sequence)) if df['label'][i] == 1]\n",
    "\n",
    "# Create dataframe of words\n",
    "new_df = pd.DataFrame(index_word.values(), index=index_word.keys())\n",
    "\n",
    "# Merge the list of lists into one list\n",
    "number_of_class_0_word = []\n",
    "for i in sequences_class_0:\n",
    "    number_of_class_0_word.extend(i)\n",
    "number_of_class_1_word = []\n",
    "for i in sequences_class_1:\n",
    "    number_of_class_1_word.extend(i)\n",
    "\n",
    "# Find the top 40 words of spam and non-spam emails\n",
    "df0 = pd.DataFrame(number_of_class_0_word, columns=['index']).value_counts()[:60].reset_index().rename(columns={0:'count'})\n",
    "df1 = pd.DataFrame(number_of_class_1_word, columns=['index']).value_counts()[:60].reset_index().rename(columns={0:'count'})"
   ]
  },
  {
   "cell_type": "code",
   "execution_count": 721,
   "id": "6a6862cd",
   "metadata": {},
   "outputs": [
    {
     "data": {
      "image/png": "[encoded data removed]",
      "text/plain": [
       "<Figure size 1000x500 with 1 Axes>"
      ]
     },
     "metadata": {},
     "output_type": "display_data"
    }
   ],
   "source": [
    "# Visualize the data\n",
    "plt.figure(figsize=(10,5))\n",
    "plot_df = df0.merge(new_df, left_on='index', right_index=True)\n",
    "plt.bar(plot_df[0], plot_df['count'])\n",
    "plt.title('Top 60 word for non-spam email')\n",
    "plt.xlabel('words')\n",
    "plt.xticks(rotation=90)\n",
    "plt.show()"
   ]
  },
  {
   "cell_type": "markdown",
   "id": "d2d199a5",
   "metadata": {},
   "source": [
    "The most common word that appear in non-spam email include (new, source, data, file, read ..)"
   ]
  },
  {
   "cell_type": "code",
   "execution_count": 723,
   "id": "2881df79",
   "metadata": {},
   "outputs": [
    {
     "data": {
      "text/plain": [
       "(83448, 2)"
      ]
     },
     "execution_count": 723,
     "metadata": {},
     "output_type": "execute_result"
    }
   ],
   "source": [
    "df.shape"
   ]
  },
  {
   "cell_type": "code",
   "execution_count": 722,
   "id": "c277b6b1",
   "metadata": {},
   "outputs": [
    {
     "data": {
      "image/png": "[encoded data removed]",
      "text/plain": [
       "<Figure size 1000x500 with 1 Axes>"
      ]
     },
     "metadata": {},
     "output_type": "display_data"
    }
   ],
   "source": [
    "# Visualize the data\n",
    "plt.figure(figsize=(10,5))\n",
    "plot_df = df1.merge(new_df, left_on='index', right_index=True)\n",
    "plt.bar(plot_df[0], plot_df['count'])\n",
    "plt.title('Top 60 word for spam email')\n",
    "plt.xlabel('words')\n",
    "plt.xticks(rotation=90)\n",
    "plt.show()"
   ]
  },
  {
   "cell_type": "markdown",
   "id": "77acf635",
   "metadata": {},
   "source": [
    "The most popular word for spam email include (price, company, save, money, information, ...)"
   ]
  },
  {
   "cell_type": "code",
   "execution_count": 399,
   "id": "3c59e004",
   "metadata": {},
   "outputs": [],
   "source": [
    "# Splitting the data into train and test set\n",
    "x_train, x_test, y_train, y_test = train_test_split(padded, y, shuffle=True, test_size=0.2,random_state=10, stratify=y)"
   ]
  },
  {
   "cell_type": "markdown",
   "id": "c3238138",
   "metadata": {},
   "source": [
    "# Random Forest"
   ]
  },
  {
   "cell_type": "code",
   "execution_count": 401,
   "id": "e92a6de3",
   "metadata": {},
   "outputs": [
    {
     "data": {
      "text/html": [
       "<style>#sk-container-id-7 {color: black;}#sk-container-id-7 pre{padding: 0;}#sk-container-id-7 div.sk-toggleable {background-color: white;}#sk-container-id-7 label.sk-toggleable__label {cursor: pointer;display: block;width: 100%;margin-bottom: 0;padding: 0.3em;box-sizing: border-box;text-align: center;}#sk-container-id-7 label.sk-toggleable__label-arrow:before {content: \"▸\";float: left;margin-right: 0.25em;color: #696969;}#sk-container-id-7 label.sk-toggleable__label-arrow:hover:before {color: black;}#sk-container-id-7 div.sk-estimator:hover label.sk-toggleable__label-arrow:before {color: black;}#sk-container-id-7 div.sk-toggleable__content {max-height: 0;max-width: 0;overflow: hidden;text-align: left;background-color: #f0f8ff;}#sk-container-id-7 div.sk-toggleable__content pre {margin: 0.2em;color: black;border-radius: 0.25em;background-color: #f0f8ff;}#sk-container-id-7 input.sk-toggleable__control:checked~div.sk-toggleable__content {max-height: 200px;max-width: 100%;overflow: auto;}#sk-container-id-7 input.sk-toggleable__control:checked~label.sk-toggleable__label-arrow:before {content: \"▾\";}#sk-container-id-7 div.sk-estimator input.sk-toggleable__control:checked~label.sk-toggleable__label {background-color: #d4ebff;}#sk-container-id-7 div.sk-label input.sk-toggleable__control:checked~label.sk-toggleable__label {background-color: #d4ebff;}#sk-container-id-7 input.sk-hidden--visually {border: 0;clip: rect(1px 1px 1px 1px);clip: rect(1px, 1px, 1px, 1px);height: 1px;margin: -1px;overflow: hidden;padding: 0;position: absolute;width: 1px;}#sk-container-id-7 div.sk-estimator {font-family: monospace;background-color: #f0f8ff;border: 1px dotted black;border-radius: 0.25em;box-sizing: border-box;margin-bottom: 0.5em;}#sk-container-id-7 div.sk-estimator:hover {background-color: #d4ebff;}#sk-container-id-7 div.sk-parallel-item::after {content: \"\";width: 100%;border-bottom: 1px solid gray;flex-grow: 1;}#sk-container-id-7 div.sk-label:hover label.sk-toggleable__label {background-color: #d4ebff;}#sk-container-id-7 div.sk-serial::before {content: \"\";position: absolute;border-left: 1px solid gray;box-sizing: border-box;top: 0;bottom: 0;left: 50%;z-index: 0;}#sk-container-id-7 div.sk-serial {display: flex;flex-direction: column;align-items: center;background-color: white;padding-right: 0.2em;padding-left: 0.2em;position: relative;}#sk-container-id-7 div.sk-item {position: relative;z-index: 1;}#sk-container-id-7 div.sk-parallel {display: flex;align-items: stretch;justify-content: center;background-color: white;position: relative;}#sk-container-id-7 div.sk-item::before, #sk-container-id-7 div.sk-parallel-item::before {content: \"\";position: absolute;border-left: 1px solid gray;box-sizing: border-box;top: 0;bottom: 0;left: 50%;z-index: -1;}#sk-container-id-7 div.sk-parallel-item {display: flex;flex-direction: column;z-index: 1;position: relative;background-color: white;}#sk-container-id-7 div.sk-parallel-item:first-child::after {align-self: flex-end;width: 50%;}#sk-container-id-7 div.sk-parallel-item:last-child::after {align-self: flex-start;width: 50%;}#sk-container-id-7 div.sk-parallel-item:only-child::after {width: 0;}#sk-container-id-7 div.sk-dashed-wrapped {border: 1px dashed gray;margin: 0 0.4em 0.5em 0.4em;box-sizing: border-box;padding-bottom: 0.4em;background-color: white;}#sk-container-id-7 div.sk-label label {font-family: monospace;font-weight: bold;display: inline-block;line-height: 1.2em;}#sk-container-id-7 div.sk-label-container {text-align: center;}#sk-container-id-7 div.sk-container {/* jupyter's `normalize.less` sets `[hidden] { display: none; }` but bootstrap.min.css set `[hidden] { display: none !important; }` so we also need the `!important` here to be able to override the default hidden behavior on the sphinx rendered scikit-learn.org. See: https://github.com/scikit-learn/scikit-learn/issues/21755 */display: inline-block !important;position: relative;}#sk-container-id-7 div.sk-text-repr-fallback {display: none;}</style><div id=\"sk-container-id-7\" class=\"sk-top-container\"><div class=\"sk-text-repr-fallback\"><pre>RandomForestClassifier(n_jobs=-1)</pre><b>In a Jupyter environment, please rerun this cell to show the HTML representation or trust the notebook. <br />On GitHub, the HTML representation is unable to render, please try loading this page with nbviewer.org.</b></div><div class=\"sk-container\" hidden><div class=\"sk-item\"><div class=\"sk-estimator sk-toggleable\"><input class=\"sk-toggleable__control sk-hidden--visually\" id=\"sk-estimator-id-7\" type=\"checkbox\" checked><label for=\"sk-estimator-id-7\" class=\"sk-toggleable__label sk-toggleable__label-arrow\">RandomForestClassifier</label><div class=\"sk-toggleable__content\"><pre>RandomForestClassifier(n_jobs=-1)</pre></div></div></div></div></div>"
      ],
      "text/plain": [
       "RandomForestClassifier(n_jobs=-1)"
      ]
     },
     "execution_count": 401,
     "metadata": {},
     "output_type": "execute_result"
    }
   ],
   "source": [
    "# Build and train random forest model\n",
    "rf = RandomForestClassifier(n_jobs=-1)\n",
    "rf.fit(x_train, y_train)"
   ]
  },
  {
   "cell_type": "code",
   "execution_count": 402,
   "id": "0b4c3703",
   "metadata": {},
   "outputs": [
    {
     "name": "stdout",
     "output_type": "stream",
     "text": [
      "              precision    recall  f1-score   support\n",
      "\n",
      "           0       0.82      0.82      0.82      7908\n",
      "           1       0.84      0.84      0.84      8782\n",
      "\n",
      "    accuracy                           0.83     16690\n",
      "   macro avg       0.83      0.83      0.83     16690\n",
      "weighted avg       0.83      0.83      0.83     16690\n",
      "\n",
      "score:  0.8289994008388256\n"
     ]
    }
   ],
   "source": [
    "print(classification_report(y_test, rf.predict(x_test)))\n",
    "print('score: ',rf.score(x_test, y_test))"
   ]
  },
  {
   "cell_type": "markdown",
   "id": "3b9e5a62",
   "metadata": {},
   "source": [
    "The score is surprisingly good consider for a simple machine learning model, but let check the cross_val_score of it"
   ]
  },
  {
   "cell_type": "code",
   "execution_count": 403,
   "id": "e1d65b08",
   "metadata": {},
   "outputs": [
    {
     "data": {
      "text/plain": [
       "0.8254242133994613"
      ]
     },
     "execution_count": 403,
     "metadata": {},
     "output_type": "execute_result"
    }
   ],
   "source": [
    "np.mean(cross_val_score(rf, padded, y, cv=5))"
   ]
  },
  {
   "cell_type": "markdown",
   "id": "46a87b46",
   "metadata": {},
   "source": [
    "Same performance, let see if we can improve the performance with deep learning model !"
   ]
  },
  {
   "cell_type": "markdown",
   "id": "260f4a9c",
   "metadata": {},
   "source": [
    "# RNN"
   ]
  },
  {
   "cell_type": "code",
   "execution_count": 453,
   "id": "9b04f671",
   "metadata": {},
   "outputs": [],
   "source": [
    "#Try RNN\n",
    "RNN_model = Sequential([\n",
    "    Embedding(input_dim=20000, output_dim=50, input_length=max_lenght),\n",
    "    SimpleRNN(64, activation='relu', return_sequences=True),\n",
    "    BatchNormalization(),\n",
    "    Dropout(0.2),\n",
    "    SimpleRNN(64, activation='relu', return_sequences=False),\n",
    "    BatchNormalization(),\n",
    "    Dropout(0.2),\n",
    "    Dense(64, activation='relu'),\n",
    "    Dropout(0.2),\n",
    "    Dense(1, activation='sigmoid')\n",
    "])\n",
    "RNN_model.compile(optimizer='adam', loss='binary_crossentropy', metrics=['acc'])"
   ]
  },
  {
   "cell_type": "code",
   "execution_count": 454,
   "id": "a959fc74",
   "metadata": {},
   "outputs": [
    {
     "name": "stdout",
     "output_type": "stream",
     "text": [
      "Model: \"sequential_22\"\n",
      "_________________________________________________________________\n",
      " Layer (type)                Output Shape              Param #   \n",
      "=================================================================\n",
      " embedding_22 (Embedding)    (None, 500, 50)           1000000   \n",
      "                                                                 \n",
      " simple_rnn_37 (SimpleRNN)   (None, 500, 64)           7360      \n",
      "                                                                 \n",
      " batch_normalization_11 (Bat  (None, 500, 64)          256       \n",
      " chNormalization)                                                \n",
      "                                                                 \n",
      " dropout_48 (Dropout)        (None, 500, 64)           0         \n",
      "                                                                 \n",
      " simple_rnn_38 (SimpleRNN)   (None, 64)                8256      \n",
      "                                                                 \n",
      " batch_normalization_12 (Bat  (None, 64)               256       \n",
      " chNormalization)                                                \n",
      "                                                                 \n",
      " dropout_49 (Dropout)        (None, 64)                0         \n",
      "                                                                 \n",
      " dense_44 (Dense)            (None, 64)                4160      \n",
      "                                                                 \n",
      " dropout_50 (Dropout)        (None, 64)                0         \n",
      "                                                                 \n",
      " dense_45 (Dense)            (None, 1)                 65        \n",
      "                                                                 \n",
      "=================================================================\n",
      "Total params: 1,020,353\n",
      "Trainable params: 1,020,097\n",
      "Non-trainable params: 256\n",
      "_________________________________________________________________\n"
     ]
    }
   ],
   "source": [
    "RNN_model.summary()"
   ]
  },
  {
   "cell_type": "code",
   "execution_count": 479,
   "id": "4c1055e0",
   "metadata": {},
   "outputs": [
    {
     "name": "stdout",
     "output_type": "stream",
     "text": [
      "Epoch 1/5\n",
      "1044/1044 [==============================] - 219s 210ms/step - loss: nan - acc: 0.4738 - val_loss: nan - val_acc: 0.4738\n",
      "Epoch 2/5\n",
      "1044/1044 [==============================] - 220s 211ms/step - loss: nan - acc: 0.4738 - val_loss: nan - val_acc: 0.4738\n",
      "Epoch 3/5\n",
      "1044/1044 [==============================] - 225s 215ms/step - loss: nan - acc: 0.4738 - val_loss: nan - val_acc: 0.4738\n",
      "Epoch 4/5\n",
      "1044/1044 [==============================] - 228s 218ms/step - loss: nan - acc: 0.4738 - val_loss: nan - val_acc: 0.4738\n",
      "Epoch 5/5\n",
      "1044/1044 [==============================] - 231s 221ms/step - loss: nan - acc: 0.4738 - val_loss: nan - val_acc: 0.4738\n"
     ]
    },
    {
     "data": {
      "text/plain": [
       "<keras.callbacks.History at 0x1db8afae350>"
      ]
     },
     "execution_count": 479,
     "metadata": {},
     "output_type": "execute_result"
    }
   ],
   "source": [
    "RNN_model.fit(x_train, y_train, batch_size=64, epochs=5, validation_data=(x_test, y_test))"
   ]
  },
  {
   "cell_type": "markdown",
   "id": "50fb6fca",
   "metadata": {},
   "source": [
    "We can see that the RNN model struggle to learn this data base on the accuracy and loss"
   ]
  },
  {
   "cell_type": "markdown",
   "id": "59f41e82",
   "metadata": {},
   "source": [
    "# GRU"
   ]
  },
  {
   "cell_type": "code",
   "execution_count": 451,
   "id": "b4f90272",
   "metadata": {},
   "outputs": [],
   "source": [
    "#Try GRU\n",
    "\n",
    "GRU_model = Sequential([\n",
    "    Embedding(input_dim=20000, output_dim=50, input_length=max_lenght),\n",
    "    GRU(64, activation='relu', return_sequences=True),\n",
    "    BatchNormalization(),\n",
    "    Dropout(0.2),\n",
    "    GRU(64, activation='relu', return_sequences=False),\n",
    "    BatchNormalization(),\n",
    "    Dropout(0.2),\n",
    "    Dense(64, activation='relu'),\n",
    "    Dropout(0.2),\n",
    "    Dense(1, activation='sigmoid')\n",
    "])\n",
    "GRU_model.compile(optimizer='adam', loss='binary_crossentropy', metrics=['acc'])"
   ]
  },
  {
   "cell_type": "code",
   "execution_count": 452,
   "id": "301ea7f7",
   "metadata": {},
   "outputs": [
    {
     "name": "stdout",
     "output_type": "stream",
     "text": [
      "Epoch 1/10\n",
      "1044/1044 [==============================] - 362s 344ms/step - loss: 0.6742 - acc: 0.5476 - val_loss: 0.6832 - val_acc: 0.5461\n",
      "Epoch 2/10\n",
      "1044/1044 [==============================] - 352s 337ms/step - loss: 0.5573 - acc: 0.6380 - val_loss: 0.0907 - val_acc: 0.9736\n",
      "Epoch 3/10\n",
      "1044/1044 [==============================] - 364s 348ms/step - loss: 0.0520 - acc: 0.9844 - val_loss: 0.0494 - val_acc: 0.9827\n",
      "Epoch 4/10\n",
      "1044/1044 [==============================] - 358s 343ms/step - loss: 0.0201 - acc: 0.9945 - val_loss: 0.0391 - val_acc: 0.9883\n",
      "Epoch 5/10\n",
      "1044/1044 [==============================] - 354s 339ms/step - loss: 0.0128 - acc: 0.9963 - val_loss: 0.0623 - val_acc: 0.9843\n",
      "Epoch 6/10\n",
      "1044/1044 [==============================] - 351s 336ms/step - loss: 0.0096 - acc: 0.9974 - val_loss: 0.0373 - val_acc: 0.9879\n",
      "Epoch 7/10\n",
      "1044/1044 [==============================] - 350s 335ms/step - loss: 0.0058 - acc: 0.9985 - val_loss: 0.0555 - val_acc: 0.9877\n",
      "Epoch 8/10\n",
      "1044/1044 [==============================] - 350s 336ms/step - loss: 0.0061 - acc: 0.9986 - val_loss: 0.0439 - val_acc: 0.9885\n",
      "Epoch 9/10\n",
      "1044/1044 [==============================] - 352s 337ms/step - loss: 0.0048 - acc: 0.9988 - val_loss: 0.0565 - val_acc: 0.9874\n",
      "Epoch 10/10\n",
      "1044/1044 [==============================] - 412s 395ms/step - loss: 0.0049 - acc: 0.9987 - val_loss: 0.0756 - val_acc: 0.9870\n"
     ]
    },
    {
     "data": {
      "text/plain": [
       "<keras.callbacks.History at 0x1db534b7790>"
      ]
     },
     "execution_count": 452,
     "metadata": {},
     "output_type": "execute_result"
    }
   ],
   "source": [
    "GRU_model.fit(x_train, y_train, batch_size=64, epochs=10, validation_data=(x_test, y_test))"
   ]
  },
  {
   "cell_type": "code",
   "execution_count": 478,
   "id": "caa01001",
   "metadata": {},
   "outputs": [
    {
     "name": "stdout",
     "output_type": "stream",
     "text": [
      "522/522 [==============================] - 45s 86ms/step\n",
      "              precision    recall  f1-score   support\n",
      "\n",
      "           0       0.98      0.99      0.99      7908\n",
      "           1       0.99      0.99      0.99      8782\n",
      "\n",
      "    accuracy                           0.99     16690\n",
      "   macro avg       0.99      0.99      0.99     16690\n",
      "weighted avg       0.99      0.99      0.99     16690\n",
      "\n"
     ]
    }
   ],
   "source": [
    "pred = (GRU_model.predict(x_test)>0.5).astype(int)\n",
    "print(classification_report(y_test, pred))"
   ]
  },
  {
   "cell_type": "markdown",
   "id": "bff723b1",
   "metadata": {},
   "source": [
    "The model perform exceedingly well with just 10 epoch all the score such as precision, recall, f1-score are around 0.98 to 0.99"
   ]
  },
  {
   "cell_type": "markdown",
   "id": "58656178",
   "metadata": {},
   "source": [
    "**After testing out 3 model from the most simple to the advanced one I have reach the conclusion:**\n",
    "   - The RandomForest model work well unexpectedly with accuracy arround 0.84\n",
    "   - The second model which is RNN although more advanced than RandomForest, struggle to learn the pattern of the data\n",
    "   - Lastly, the advanced model which is GRU perform with almost perfect score (all the metric score around 0.98 to 0.99)\n",
    "\n",
    "**Although the performance overall is good it is the best to introduce more data to the model to make sure it adapt well to unseen data, structure for the most optimized email classification**"
   ]
  },
  {
   "cell_type": "markdown",
   "id": "a7adc6b2",
   "metadata": {},
   "source": [
    "# Thank you for checking my project"
   ]
  }
 ],
 "metadata": {
  "kernelspec": {
   "display_name": "Python 3 (ipykernel)",
   "language": "python",
   "name": "python3"
  },
  "language_info": {
   "codemirror_mode": {
    "name": "ipython",
    "version": 3
   },
   "file_extension": ".py",
   "mimetype": "text/x-python",
   "name": "python",
   "nbconvert_exporter": "python",
   "pygments_lexer": "ipython3",
   "version": "3.11.5"
  }
 },
 "nbformat": 4,
 "nbformat_minor": 5
}
